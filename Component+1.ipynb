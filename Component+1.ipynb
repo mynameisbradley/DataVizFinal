{
 "cells": [
  {
   "cell_type": "markdown",
   "metadata": {},
   "source": [
    "# Component 1 - Transportable Array"
   ]
  },
  {
   "cell_type": "markdown",
   "metadata": {},
   "source": [
    "## Import Modules and Data"
   ]
  },
  {
   "cell_type": "code",
   "execution_count": 2,
   "metadata": {
    "collapsed": true
   },
   "outputs": [],
   "source": [
    "%matplotlib inline"
   ]
  },
  {
   "cell_type": "code",
   "execution_count": 18,
   "metadata": {
    "collapsed": true
   },
   "outputs": [],
   "source": [
    "from haversine import haversine\n",
    "import pandas as pd\n",
    "import matplotlib.pyplot as plt\n",
    "import numpy as np\n",
    "from mpl_toolkits.basemap import Basemap\n",
    "import ipywidgets\n",
    "import matplotlib.gridspec as gridspec\n",
    "import cartopy\n",
    "from matplotlib import animation\n",
    "from IPython.display import Audio\n",
    "import seaborn as sns"
   ]
  },
  {
   "cell_type": "markdown",
   "metadata": {},
   "source": [
    "## Load Transportable Array Data"
   ]
  },
  {
   "cell_type": "code",
   "execution_count": 19,
   "metadata": {
    "collapsed": true
   },
   "outputs": [],
   "source": [
    "array_vals = pd.read_csv(\"data-readonly/transportable_array/data_tohoku_norm_transpose.csv\", header=None)"
   ]
  },
  {
   "cell_type": "code",
   "execution_count": 5,
   "metadata": {
    "collapsed": true
   },
   "outputs": [],
   "source": [
    "## This code comes from Prof Turk. Translates our 4 hour time period into the time of day between 2:46pm and 6:46pm. \n",
    "v = pd.date_range(\"2:46PM\", \"6:46PM\", freq=\"1s\")\n",
    "v -= v[0]\n",
    "array_vals[\"time\"] = v\n",
    "array_vals.set_index(\"time\", inplace=True)"
   ]
  },
  {
   "cell_type": "code",
   "execution_count": 6,
   "metadata": {
    "collapsed": true
   },
   "outputs": [],
   "source": [
    "date_range = pd.date_range(\"2:46PM\", \"6:46PM\", freq=\"1s\")"
   ]
  },
  {
   "cell_type": "code",
   "execution_count": 21,
   "metadata": {},
   "outputs": [
    {
     "data": {
      "text/html": [
       "<div>\n",
       "<style scoped>\n",
       "    .dataframe tbody tr th:only-of-type {\n",
       "        vertical-align: middle;\n",
       "    }\n",
       "\n",
       "    .dataframe tbody tr th {\n",
       "        vertical-align: top;\n",
       "    }\n",
       "\n",
       "    .dataframe thead th {\n",
       "        text-align: right;\n",
       "    }\n",
       "</style>\n",
       "<table border=\"1\" class=\"dataframe\">\n",
       "  <thead>\n",
       "    <tr style=\"text-align: right;\">\n",
       "      <th></th>\n",
       "      <th>0</th>\n",
       "      <th>1</th>\n",
       "      <th>2</th>\n",
       "      <th>3</th>\n",
       "      <th>4</th>\n",
       "      <th>5</th>\n",
       "      <th>6</th>\n",
       "      <th>7</th>\n",
       "      <th>8</th>\n",
       "      <th>9</th>\n",
       "      <th>...</th>\n",
       "      <th>428</th>\n",
       "      <th>429</th>\n",
       "      <th>430</th>\n",
       "      <th>431</th>\n",
       "      <th>432</th>\n",
       "      <th>433</th>\n",
       "      <th>434</th>\n",
       "      <th>435</th>\n",
       "      <th>436</th>\n",
       "      <th>437</th>\n",
       "    </tr>\n",
       "  </thead>\n",
       "  <tbody>\n",
       "    <tr>\n",
       "      <th>longitude</th>\n",
       "      <td>-98.683</td>\n",
       "      <td>-98.102</td>\n",
       "      <td>-98.068</td>\n",
       "      <td>-117.110</td>\n",
       "      <td>-107.790</td>\n",
       "      <td>-98.916</td>\n",
       "      <td>-98.079</td>\n",
       "      <td>-97.410</td>\n",
       "      <td>-96.530</td>\n",
       "      <td>-95.756</td>\n",
       "      <td>...</td>\n",
       "      <td>-93.280</td>\n",
       "      <td>-98.765</td>\n",
       "      <td>-97.916</td>\n",
       "      <td>-97.253</td>\n",
       "      <td>-96.434</td>\n",
       "      <td>-95.623</td>\n",
       "      <td>-94.985</td>\n",
       "      <td>-94.182</td>\n",
       "      <td>-93.400</td>\n",
       "      <td>-92.803</td>\n",
       "    </tr>\n",
       "    <tr>\n",
       "      <th>latitude</th>\n",
       "      <td>27.065</td>\n",
       "      <td>26.938</td>\n",
       "      <td>26.463</td>\n",
       "      <td>32.889</td>\n",
       "      <td>32.532</td>\n",
       "      <td>32.608</td>\n",
       "      <td>32.573</td>\n",
       "      <td>32.557</td>\n",
       "      <td>32.475</td>\n",
       "      <td>32.597</td>\n",
       "      <td>...</td>\n",
       "      <td>34.012</td>\n",
       "      <td>33.286</td>\n",
       "      <td>33.371</td>\n",
       "      <td>33.331</td>\n",
       "      <td>33.270</td>\n",
       "      <td>33.198</td>\n",
       "      <td>33.260</td>\n",
       "      <td>33.242</td>\n",
       "      <td>33.258</td>\n",
       "      <td>33.258</td>\n",
       "    </tr>\n",
       "  </tbody>\n",
       "</table>\n",
       "<p>2 rows × 438 columns</p>\n",
       "</div>"
      ],
      "text/plain": [
       "              0       1       2        3        4       5       6       7    \\\n",
       "longitude -98.683 -98.102 -98.068 -117.110 -107.790 -98.916 -98.079 -97.410   \n",
       "latitude   27.065  26.938  26.463   32.889   32.532  32.608  32.573  32.557   \n",
       "\n",
       "              8       9     ...       428     429     430     431     432  \\\n",
       "longitude -96.530 -95.756   ...   -93.280 -98.765 -97.916 -97.253 -96.434   \n",
       "latitude   32.475  32.597   ...    34.012  33.286  33.371  33.331  33.270   \n",
       "\n",
       "              433     434     435     436     437  \n",
       "longitude -95.623 -94.985 -94.182 -93.400 -92.803  \n",
       "latitude   33.198  33.260  33.242  33.258  33.258  \n",
       "\n",
       "[2 rows x 438 columns]"
      ]
     },
     "execution_count": 21,
     "metadata": {},
     "output_type": "execute_result"
    }
   ],
   "source": [
    "# Now bringing in longitude and latitudes of stations\n",
    "locations = pd.read_csv(\"/srv/nbgrader/data/transportable_array/location.txt\",\n",
    "                        delimiter=\"\\t\", names =[\"longitude\", \"latitude\", \"a\", \"b\"])\n",
    "del locations[\"a\"], locations[\"b\"]\n",
    "locations = locations.T\n",
    "locations.head()"
   ]
  },
  {
   "cell_type": "markdown",
   "metadata": {},
   "source": [
    "## Stations DataFrame"
   ]
  },
  {
   "cell_type": "code",
   "execution_count": 20,
   "metadata": {},
   "outputs": [
    {
     "data": {
      "text/html": [
       "<div>\n",
       "<style scoped>\n",
       "    .dataframe tbody tr th:only-of-type {\n",
       "        vertical-align: middle;\n",
       "    }\n",
       "\n",
       "    .dataframe tbody tr th {\n",
       "        vertical-align: top;\n",
       "    }\n",
       "\n",
       "    .dataframe thead th {\n",
       "        text-align: right;\n",
       "    }\n",
       "</style>\n",
       "<table border=\"1\" class=\"dataframe\">\n",
       "  <thead>\n",
       "    <tr style=\"text-align: right;\">\n",
       "      <th></th>\n",
       "      <th>0</th>\n",
       "      <th>1</th>\n",
       "      <th>2</th>\n",
       "      <th>3</th>\n",
       "      <th>4</th>\n",
       "      <th>5</th>\n",
       "      <th>6</th>\n",
       "      <th>7</th>\n",
       "      <th>8</th>\n",
       "      <th>9</th>\n",
       "      <th>...</th>\n",
       "      <th>428</th>\n",
       "      <th>429</th>\n",
       "      <th>430</th>\n",
       "      <th>431</th>\n",
       "      <th>432</th>\n",
       "      <th>433</th>\n",
       "      <th>434</th>\n",
       "      <th>435</th>\n",
       "      <th>436</th>\n",
       "      <th>437</th>\n",
       "    </tr>\n",
       "  </thead>\n",
       "  <tbody>\n",
       "    <tr>\n",
       "      <th>longitude</th>\n",
       "      <td>-98.683000</td>\n",
       "      <td>-98.102000</td>\n",
       "      <td>-98.068000</td>\n",
       "      <td>-117.110000</td>\n",
       "      <td>-107.790000</td>\n",
       "      <td>-98.916000</td>\n",
       "      <td>-98.079000</td>\n",
       "      <td>-97.410000</td>\n",
       "      <td>-96.530000</td>\n",
       "      <td>-95.756000</td>\n",
       "      <td>...</td>\n",
       "      <td>-93.280000</td>\n",
       "      <td>-98.765000</td>\n",
       "      <td>-97.916000</td>\n",
       "      <td>-97.253000</td>\n",
       "      <td>-96.434000</td>\n",
       "      <td>-95.623000</td>\n",
       "      <td>-94.985000</td>\n",
       "      <td>-94.182000</td>\n",
       "      <td>-93.400000</td>\n",
       "      <td>-92.803000</td>\n",
       "    </tr>\n",
       "    <tr>\n",
       "      <th>latitude</th>\n",
       "      <td>27.065000</td>\n",
       "      <td>26.938000</td>\n",
       "      <td>26.463000</td>\n",
       "      <td>32.889000</td>\n",
       "      <td>32.532000</td>\n",
       "      <td>32.608000</td>\n",
       "      <td>32.573000</td>\n",
       "      <td>32.557000</td>\n",
       "      <td>32.475000</td>\n",
       "      <td>32.597000</td>\n",
       "      <td>...</td>\n",
       "      <td>34.012000</td>\n",
       "      <td>33.286000</td>\n",
       "      <td>33.371000</td>\n",
       "      <td>33.331000</td>\n",
       "      <td>33.270000</td>\n",
       "      <td>33.198000</td>\n",
       "      <td>33.260000</td>\n",
       "      <td>33.242000</td>\n",
       "      <td>33.258000</td>\n",
       "      <td>33.258000</td>\n",
       "    </tr>\n",
       "    <tr>\n",
       "      <th>0</th>\n",
       "      <td>-0.000255</td>\n",
       "      <td>-0.000068</td>\n",
       "      <td>0.000406</td>\n",
       "      <td>-0.000275</td>\n",
       "      <td>0.000070</td>\n",
       "      <td>0.000041</td>\n",
       "      <td>-0.000070</td>\n",
       "      <td>-0.000040</td>\n",
       "      <td>0.000152</td>\n",
       "      <td>0.000039</td>\n",
       "      <td>...</td>\n",
       "      <td>-0.000156</td>\n",
       "      <td>0.000025</td>\n",
       "      <td>0.000064</td>\n",
       "      <td>0.000047</td>\n",
       "      <td>0.000030</td>\n",
       "      <td>0.000080</td>\n",
       "      <td>0.000051</td>\n",
       "      <td>0.000156</td>\n",
       "      <td>0.000282</td>\n",
       "      <td>-0.000024</td>\n",
       "    </tr>\n",
       "    <tr>\n",
       "      <th>1</th>\n",
       "      <td>-0.000238</td>\n",
       "      <td>-0.000085</td>\n",
       "      <td>0.000411</td>\n",
       "      <td>-0.000293</td>\n",
       "      <td>0.000085</td>\n",
       "      <td>0.000058</td>\n",
       "      <td>-0.000027</td>\n",
       "      <td>-0.000042</td>\n",
       "      <td>0.000141</td>\n",
       "      <td>0.000151</td>\n",
       "      <td>...</td>\n",
       "      <td>-0.000118</td>\n",
       "      <td>0.000127</td>\n",
       "      <td>0.000029</td>\n",
       "      <td>0.000056</td>\n",
       "      <td>0.000093</td>\n",
       "      <td>0.000016</td>\n",
       "      <td>0.000016</td>\n",
       "      <td>0.000056</td>\n",
       "      <td>0.000280</td>\n",
       "      <td>-0.000036</td>\n",
       "    </tr>\n",
       "    <tr>\n",
       "      <th>2</th>\n",
       "      <td>-0.000220</td>\n",
       "      <td>-0.000102</td>\n",
       "      <td>0.000413</td>\n",
       "      <td>-0.000308</td>\n",
       "      <td>0.000099</td>\n",
       "      <td>0.000073</td>\n",
       "      <td>0.000015</td>\n",
       "      <td>-0.000042</td>\n",
       "      <td>0.000129</td>\n",
       "      <td>0.000259</td>\n",
       "      <td>...</td>\n",
       "      <td>-0.000080</td>\n",
       "      <td>0.000225</td>\n",
       "      <td>-0.000005</td>\n",
       "      <td>0.000065</td>\n",
       "      <td>0.000153</td>\n",
       "      <td>-0.000046</td>\n",
       "      <td>-0.000019</td>\n",
       "      <td>-0.000042</td>\n",
       "      <td>0.000275</td>\n",
       "      <td>-0.000049</td>\n",
       "    </tr>\n",
       "  </tbody>\n",
       "</table>\n",
       "<p>5 rows × 438 columns</p>\n",
       "</div>"
      ],
      "text/plain": [
       "                 0          1          2           3           4          5    \\\n",
       "longitude -98.683000 -98.102000 -98.068000 -117.110000 -107.790000 -98.916000   \n",
       "latitude   27.065000  26.938000  26.463000   32.889000   32.532000  32.608000   \n",
       "0          -0.000255  -0.000068   0.000406   -0.000275    0.000070   0.000041   \n",
       "1          -0.000238  -0.000085   0.000411   -0.000293    0.000085   0.000058   \n",
       "2          -0.000220  -0.000102   0.000413   -0.000308    0.000099   0.000073   \n",
       "\n",
       "                 6          7          8          9      ...            428  \\\n",
       "longitude -98.079000 -97.410000 -96.530000 -95.756000    ...     -93.280000   \n",
       "latitude   32.573000  32.557000  32.475000  32.597000    ...      34.012000   \n",
       "0          -0.000070  -0.000040   0.000152   0.000039    ...      -0.000156   \n",
       "1          -0.000027  -0.000042   0.000141   0.000151    ...      -0.000118   \n",
       "2           0.000015  -0.000042   0.000129   0.000259    ...      -0.000080   \n",
       "\n",
       "                 429        430        431        432        433        434  \\\n",
       "longitude -98.765000 -97.916000 -97.253000 -96.434000 -95.623000 -94.985000   \n",
       "latitude   33.286000  33.371000  33.331000  33.270000  33.198000  33.260000   \n",
       "0           0.000025   0.000064   0.000047   0.000030   0.000080   0.000051   \n",
       "1           0.000127   0.000029   0.000056   0.000093   0.000016   0.000016   \n",
       "2           0.000225  -0.000005   0.000065   0.000153  -0.000046  -0.000019   \n",
       "\n",
       "                 435        436        437  \n",
       "longitude -94.182000 -93.400000 -92.803000  \n",
       "latitude   33.242000  33.258000  33.258000  \n",
       "0           0.000156   0.000282  -0.000024  \n",
       "1           0.000056   0.000280  -0.000036  \n",
       "2          -0.000042   0.000275  -0.000049  \n",
       "\n",
       "[5 rows x 438 columns]"
      ]
     },
     "execution_count": 20,
     "metadata": {},
     "output_type": "execute_result"
    }
   ],
   "source": [
    "stations = pd.concat([locations, array_vals]) \n",
    "stations.head()"
   ]
  },
  {
   "cell_type": "markdown",
   "metadata": {},
   "source": [
    "## Calculating Distances with Haversine"
   ]
  },
  {
   "cell_type": "code",
   "execution_count": 22,
   "metadata": {
    "collapsed": true
   },
   "outputs": [],
   "source": [
    "# longitude and latitude of Tohoku quake c/o Google \n",
    "tohoku_quake = (38.3, 142.4)\n",
    "station1 = stations[3][1], stations[3][0] # latitude then longitude\n",
    "haversine(tohoku_quake, station1, miles = True)\n",
    "\n",
    "dists = [] # empty list for distances\n",
    "for s in stations: #iterate over stations dataframe\n",
    "    station = stations[s][1], stations[s][0] #pull coordinates\n",
    "    dist = haversine(tohoku_quake, station, miles = True) # calculate distances using haversine set to miles\n",
    "    dists.append(dist) # add to distances list\n",
    "    \n",
    "distances = pd.DataFrame(dists) # convert to Dataframe\n",
    "distances.columns = ['dist'] # rename\n",
    "distances.sort_values(by = 'dist', inplace = True, ascending = True) # sort"
   ]
  },
  {
   "cell_type": "markdown",
   "metadata": {},
   "source": [
    "## Dataframe with Stations, Distances, Coordinates, Time & Reading Values"
   ]
  },
  {
   "cell_type": "code",
   "execution_count": 44,
   "metadata": {},
   "outputs": [
    {
     "data": {
      "text/html": [
       "<div>\n",
       "<style scoped>\n",
       "    .dataframe tbody tr th:only-of-type {\n",
       "        vertical-align: middle;\n",
       "    }\n",
       "\n",
       "    .dataframe tbody tr th {\n",
       "        vertical-align: top;\n",
       "    }\n",
       "\n",
       "    .dataframe thead th {\n",
       "        text-align: right;\n",
       "    }\n",
       "</style>\n",
       "<table border=\"1\" class=\"dataframe\">\n",
       "  <thead>\n",
       "    <tr style=\"text-align: right;\">\n",
       "      <th></th>\n",
       "      <th>index</th>\n",
       "      <th>dist</th>\n",
       "      <th>longitude</th>\n",
       "      <th>latitude</th>\n",
       "      <th>0</th>\n",
       "      <th>1</th>\n",
       "      <th>2</th>\n",
       "      <th>3</th>\n",
       "      <th>4</th>\n",
       "      <th>5</th>\n",
       "      <th>...</th>\n",
       "      <th>14391</th>\n",
       "      <th>14392</th>\n",
       "      <th>14393</th>\n",
       "      <th>14394</th>\n",
       "      <th>14395</th>\n",
       "      <th>14396</th>\n",
       "      <th>14397</th>\n",
       "      <th>14398</th>\n",
       "      <th>14399</th>\n",
       "      <th>14400</th>\n",
       "    </tr>\n",
       "  </thead>\n",
       "  <tbody>\n",
       "    <tr>\n",
       "      <th>0</th>\n",
       "      <td>123</td>\n",
       "      <td>8874.083699</td>\n",
       "      <td>-122.770</td>\n",
       "      <td>47.179</td>\n",
       "      <td>0.006577</td>\n",
       "      <td>0.006650</td>\n",
       "      <td>0.006660</td>\n",
       "      <td>0.006616</td>\n",
       "      <td>0.006528</td>\n",
       "      <td>0.006404</td>\n",
       "      <td>...</td>\n",
       "      <td>-0.016533</td>\n",
       "      <td>-0.016002</td>\n",
       "      <td>-0.015280</td>\n",
       "      <td>-0.014373</td>\n",
       "      <td>-0.013294</td>\n",
       "      <td>-0.012066</td>\n",
       "      <td>-0.010723</td>\n",
       "      <td>-0.009306</td>\n",
       "      <td>-0.007864</td>\n",
       "      <td>0.000000</td>\n",
       "    </tr>\n",
       "    <tr>\n",
       "      <th>1</th>\n",
       "      <td>193</td>\n",
       "      <td>8874.431614</td>\n",
       "      <td>-123.850</td>\n",
       "      <td>44.106</td>\n",
       "      <td>0.002861</td>\n",
       "      <td>0.003157</td>\n",
       "      <td>0.003419</td>\n",
       "      <td>0.003642</td>\n",
       "      <td>0.003827</td>\n",
       "      <td>0.003970</td>\n",
       "      <td>...</td>\n",
       "      <td>-0.005995</td>\n",
       "      <td>-0.005475</td>\n",
       "      <td>-0.004947</td>\n",
       "      <td>-0.004422</td>\n",
       "      <td>-0.003909</td>\n",
       "      <td>-0.003413</td>\n",
       "      <td>-0.002940</td>\n",
       "      <td>-0.002495</td>\n",
       "      <td>-0.002083</td>\n",
       "      <td>-0.001708</td>\n",
       "    </tr>\n",
       "    <tr>\n",
       "      <th>2</th>\n",
       "      <td>242</td>\n",
       "      <td>8874.552384</td>\n",
       "      <td>-81.333</td>\n",
       "      <td>35.142</td>\n",
       "      <td>0.002128</td>\n",
       "      <td>0.001515</td>\n",
       "      <td>0.000905</td>\n",
       "      <td>0.000318</td>\n",
       "      <td>-0.000232</td>\n",
       "      <td>-0.000734</td>\n",
       "      <td>...</td>\n",
       "      <td>-0.013640</td>\n",
       "      <td>-0.014851</td>\n",
       "      <td>-0.015597</td>\n",
       "      <td>-0.015856</td>\n",
       "      <td>-0.015635</td>\n",
       "      <td>-0.014969</td>\n",
       "      <td>-0.013917</td>\n",
       "      <td>-0.012557</td>\n",
       "      <td>-0.010980</td>\n",
       "      <td>0.000000</td>\n",
       "    </tr>\n",
       "    <tr>\n",
       "      <th>3</th>\n",
       "      <td>179</td>\n",
       "      <td>8874.591010</td>\n",
       "      <td>-122.740</td>\n",
       "      <td>44.523</td>\n",
       "      <td>0.001393</td>\n",
       "      <td>0.001376</td>\n",
       "      <td>0.001347</td>\n",
       "      <td>0.001307</td>\n",
       "      <td>0.001260</td>\n",
       "      <td>0.001208</td>\n",
       "      <td>...</td>\n",
       "      <td>-0.008156</td>\n",
       "      <td>-0.007508</td>\n",
       "      <td>-0.006837</td>\n",
       "      <td>-0.006157</td>\n",
       "      <td>-0.005481</td>\n",
       "      <td>-0.004820</td>\n",
       "      <td>-0.004186</td>\n",
       "      <td>-0.003588</td>\n",
       "      <td>-0.003030</td>\n",
       "      <td>-0.002516</td>\n",
       "    </tr>\n",
       "    <tr>\n",
       "      <th>4</th>\n",
       "      <td>137</td>\n",
       "      <td>8874.607710</td>\n",
       "      <td>-122.570</td>\n",
       "      <td>46.557</td>\n",
       "      <td>0.001143</td>\n",
       "      <td>0.001264</td>\n",
       "      <td>0.001374</td>\n",
       "      <td>0.001469</td>\n",
       "      <td>0.001549</td>\n",
       "      <td>0.001611</td>\n",
       "      <td>...</td>\n",
       "      <td>-0.000869</td>\n",
       "      <td>-0.000480</td>\n",
       "      <td>-0.000142</td>\n",
       "      <td>0.000132</td>\n",
       "      <td>0.000331</td>\n",
       "      <td>0.000452</td>\n",
       "      <td>0.000499</td>\n",
       "      <td>0.000482</td>\n",
       "      <td>0.000418</td>\n",
       "      <td>0.000000</td>\n",
       "    </tr>\n",
       "  </tbody>\n",
       "</table>\n",
       "<p>5 rows × 14405 columns</p>\n",
       "</div>"
      ],
      "text/plain": [
       "   index         dist  longitude  latitude         0         1         2  \\\n",
       "0    123  8874.083699   -122.770    47.179  0.006577  0.006650  0.006660   \n",
       "1    193  8874.431614   -123.850    44.106  0.002861  0.003157  0.003419   \n",
       "2    242  8874.552384    -81.333    35.142  0.002128  0.001515  0.000905   \n",
       "3    179  8874.591010   -122.740    44.523  0.001393  0.001376  0.001347   \n",
       "4    137  8874.607710   -122.570    46.557  0.001143  0.001264  0.001374   \n",
       "\n",
       "          3         4         5    ...        14391     14392     14393  \\\n",
       "0  0.006616  0.006528  0.006404    ...    -0.016533 -0.016002 -0.015280   \n",
       "1  0.003642  0.003827  0.003970    ...    -0.005995 -0.005475 -0.004947   \n",
       "2  0.000318 -0.000232 -0.000734    ...    -0.013640 -0.014851 -0.015597   \n",
       "3  0.001307  0.001260  0.001208    ...    -0.008156 -0.007508 -0.006837   \n",
       "4  0.001469  0.001549  0.001611    ...    -0.000869 -0.000480 -0.000142   \n",
       "\n",
       "      14394     14395     14396     14397     14398     14399     14400  \n",
       "0 -0.014373 -0.013294 -0.012066 -0.010723 -0.009306 -0.007864  0.000000  \n",
       "1 -0.004422 -0.003909 -0.003413 -0.002940 -0.002495 -0.002083 -0.001708  \n",
       "2 -0.015856 -0.015635 -0.014969 -0.013917 -0.012557 -0.010980  0.000000  \n",
       "3 -0.006157 -0.005481 -0.004820 -0.004186 -0.003588 -0.003030 -0.002516  \n",
       "4  0.000132  0.000331  0.000452  0.000499  0.000482  0.000418  0.000000  \n",
       "\n",
       "[5 rows x 14405 columns]"
      ]
     },
     "execution_count": 44,
     "metadata": {},
     "output_type": "execute_result"
    }
   ],
   "source": [
    "test2 = stations.T\n",
    "\n",
    "distOrder = pd.merge(distances, left_index=True, right_index=True, right=test2)\n",
    "\n",
    "new_df = pd.DataFrame(distOrder)\n",
    "new_df.reset_index(inplace = True)\n",
    "\n",
    "new_df.head()"
   ]
  },
  {
   "cell_type": "markdown",
   "metadata": {},
   "source": [
    "## Line Plot"
   ]
  },
  {
   "cell_type": "code",
   "execution_count": 45,
   "metadata": {},
   "outputs": [
    {
     "data": {
      "application/vnd.jupyter.widget-view+json": {
       "model_id": "e2c7d8b446a546a5afb9b5a4dae87335",
       "version_major": 2,
       "version_minor": 0
      },
      "text/html": [
       "<p>Failed to display Jupyter Widget of type <code>interactive</code>.</p>\n",
       "<p>\n",
       "  If you're reading this message in the Jupyter Notebook or JupyterLab Notebook, it may mean\n",
       "  that the widgets JavaScript is still loading. If this message persists, it\n",
       "  likely means that the widgets JavaScript library is either not installed or\n",
       "  not enabled. See the <a href=\"https://ipywidgets.readthedocs.io/en/stable/user_install.html\">Jupyter\n",
       "  Widgets Documentation</a> for setup instructions.\n",
       "</p>\n",
       "<p>\n",
       "  If you're reading this message in another frontend (for example, a static\n",
       "  rendering on GitHub or <a href=\"https://nbviewer.jupyter.org/\">NBViewer</a>),\n",
       "  it may mean that your frontend doesn't currently support widgets.\n",
       "</p>\n"
      ],
      "text/plain": [
       "interactive(children=(IntSlider(value=2000, description='time', max=14400), IntSlider(value=0, description='station', max=437), Output()), _dom_classes=('widget-interact',))"
      ]
     },
     "metadata": {},
     "output_type": "display_data"
    }
   ],
   "source": [
    "######################################\n",
    "#**** SEISMOGRAPH LINE PLOT ONLY ****#\n",
    "######################################\n",
    "@ipywidgets.interact(time = (0, 14400, 1), station = (0, 437, 1))\n",
    "def make_plot(time = 2000, station = 0):\n",
    "    i = 5\n",
    "    plt.subplot(211)\n",
    "    plt.plot(new_df.loc[station][4:i+time].values)\n",
    "    plt.xlim(0, 14000)\n",
    "    plt.ylim(-1.0, 1.0)"
   ]
  },
  {
   "cell_type": "markdown",
   "metadata": {},
   "source": [
    "## Spectrogram"
   ]
  },
  {
   "cell_type": "code",
   "execution_count": 46,
   "metadata": {
    "scrolled": true
   },
   "outputs": [
    {
     "data": {
      "application/vnd.jupyter.widget-view+json": {
       "model_id": "4b6b487669d04e428633e6ad7dd5b73f",
       "version_major": 2,
       "version_minor": 0
      },
      "text/html": [
       "<p>Failed to display Jupyter Widget of type <code>interactive</code>.</p>\n",
       "<p>\n",
       "  If you're reading this message in the Jupyter Notebook or JupyterLab Notebook, it may mean\n",
       "  that the widgets JavaScript is still loading. If this message persists, it\n",
       "  likely means that the widgets JavaScript library is either not installed or\n",
       "  not enabled. See the <a href=\"https://ipywidgets.readthedocs.io/en/stable/user_install.html\">Jupyter\n",
       "  Widgets Documentation</a> for setup instructions.\n",
       "</p>\n",
       "<p>\n",
       "  If you're reading this message in another frontend (for example, a static\n",
       "  rendering on GitHub or <a href=\"https://nbviewer.jupyter.org/\">NBViewer</a>),\n",
       "  it may mean that your frontend doesn't currently support widgets.\n",
       "</p>\n"
      ],
      "text/plain": [
       "interactive(children=(IntSlider(value=2000, description='time', max=14400), IntSlider(value=0, description='station', max=437), Output()), _dom_classes=('widget-interact',))"
      ]
     },
     "metadata": {},
     "output_type": "display_data"
    }
   ],
   "source": [
    "##############################################\n",
    "#**** SEISMOGRAPH READINGS NORMALIZED(?) ****#\n",
    "##############################################\n",
    "\n",
    "testt.fillna(0, inplace = True)\n",
    "@ipywidgets.interact(time = (0, 14400, 1), station = (0, 437, 1))\n",
    "def make_plot(time = 2000, station = 0):\n",
    "    i = 5\n",
    "    vals = array_vals\n",
    "    normalisedVals = ( vals - np.nanmin(vals) ) / ( np.nanmax(vals) - np.nanmin(vals) )\n",
    "    normalisedVals = normalisedVals.astype(np.float)\n",
    "\n",
    "    plt.hexbin(np.arange(14401), np.abs(new_df.loc[station][4:].values), bins = 'log')"
   ]
  },
  {
   "cell_type": "markdown",
   "metadata": {},
   "source": [
    "## Spectrogram (?) & Line Plot"
   ]
  },
  {
   "cell_type": "code",
   "execution_count": 47,
   "metadata": {},
   "outputs": [
    {
     "data": {
      "application/vnd.jupyter.widget-view+json": {
       "model_id": "3a0bae35fdc149e4a7b45a8760997e07",
       "version_major": 2,
       "version_minor": 0
      },
      "text/html": [
       "<p>Failed to display Jupyter Widget of type <code>interactive</code>.</p>\n",
       "<p>\n",
       "  If you're reading this message in the Jupyter Notebook or JupyterLab Notebook, it may mean\n",
       "  that the widgets JavaScript is still loading. If this message persists, it\n",
       "  likely means that the widgets JavaScript library is either not installed or\n",
       "  not enabled. See the <a href=\"https://ipywidgets.readthedocs.io/en/stable/user_install.html\">Jupyter\n",
       "  Widgets Documentation</a> for setup instructions.\n",
       "</p>\n",
       "<p>\n",
       "  If you're reading this message in another frontend (for example, a static\n",
       "  rendering on GitHub or <a href=\"https://nbviewer.jupyter.org/\">NBViewer</a>),\n",
       "  it may mean that your frontend doesn't currently support widgets.\n",
       "</p>\n"
      ],
      "text/plain": [
       "interactive(children=(IntSlider(value=2000, description='time', max=14400), IntSlider(value=0, description='station', max=437), Output()), _dom_classes=('widget-interact',))"
      ]
     },
     "metadata": {},
     "output_type": "display_data"
    }
   ],
   "source": [
    "################################\n",
    "#**** SEISMOGRAPH READINGS ****#\n",
    "################################\n",
    "\n",
    "@ipywidgets.interact(time = (0, 14400, 1), station = (0, 437, 1))\n",
    "def make_plot(time = 2000, station = 0):\n",
    "    i = 5\n",
    "    plt.subplot(211)\n",
    "    plt.plot(new_df.loc[station][4:i+time].values)\n",
    "    plt.xlim(0, 14000)\n",
    "    plt.ylim(-1.0, 1.0)\n",
    "    \n",
    "    vmin = array_vals.min().min() \n",
    "    vmax = array_vals.max().max()\n",
    "    \n",
    "    plt.subplot(212)\n",
    "    plt.hexbin(np.arange(14401), np.abs(new_df.loc[station][4:].values), bins = 'log')\n",
    "    plt.colorbar()"
   ]
  },
  {
   "cell_type": "markdown",
   "metadata": {},
   "source": [
    "## Stations Map\n"
   ]
  },
  {
   "cell_type": "code",
   "execution_count": 52,
   "metadata": {},
   "outputs": [
    {
     "data": {
      "image/png": "[encoded data removed]",
      "text/plain": [
       "<matplotlib.figure.Figure at 0x7f684fe157f0>"
      ]
     },
     "metadata": {},
     "output_type": "display_data"
    },
    {
     "data": {
      "application/vnd.jupyter.widget-view+json": {
       "model_id": "3e704280822e46e081130f2373e37a28",
       "version_major": 2,
       "version_minor": 0
      },
      "text/html": [
       "<p>Failed to display Jupyter Widget of type <code>interactive</code>.</p>\n",
       "<p>\n",
       "  If you're reading this message in the Jupyter Notebook or JupyterLab Notebook, it may mean\n",
       "  that the widgets JavaScript is still loading. If this message persists, it\n",
       "  likely means that the widgets JavaScript library is either not installed or\n",
       "  not enabled. See the <a href=\"https://ipywidgets.readthedocs.io/en/stable/user_install.html\">Jupyter\n",
       "  Widgets Documentation</a> for setup instructions.\n",
       "</p>\n",
       "<p>\n",
       "  If you're reading this message in another frontend (for example, a static\n",
       "  rendering on GitHub or <a href=\"https://nbviewer.jupyter.org/\">NBViewer</a>),\n",
       "  it may mean that your frontend doesn't currently support widgets.\n",
       "</p>\n"
      ],
      "text/plain": [
       "interactive(children=(IntSlider(value=0, description='station', max=437), Output()), _dom_classes=('widget-interact',))"
      ]
     },
     "metadata": {},
     "output_type": "display_data"
    }
   ],
   "source": [
    "##################################\n",
    "#******* STATION LOCATOR ********# \n",
    "##################################\n",
    "\n",
    "states = cartopy.io.shapereader.natural_earth(resolution='110m',\n",
    "                                              category='cultural',\n",
    "                                              name='admin_1_states_provinces_lakes_shp')\n",
    "reader = cartopy.io.shapereader.Reader(states)\n",
    "all_states = list(reader.records())\n",
    "all_states[0]\n",
    "geometries = [state.geometry for state in all_states]\n",
    "\n",
    "fig = plt.figure()\n",
    "ax1 = fig.add_subplot(111, projection = cartopy.crs.LambertConformal())\n",
    "ax1.set_extent([-125, -66.5, 20, 50], cartopy.crs.Geodetic())\n",
    "ax1.add_geometries(geometries, crs = cartopy.crs.PlateCarree(), facecolors = 'white', edgecolors = 'lightblue', zorder = 0)\n",
    "\n",
    "@ipywidgets.interact(station = (0, 437, 1))\n",
    "def plot_station(station = 0):\n",
    "    scat = ax1.scatter(new_df.loc[station]['longitude'], \n",
    "                new_df.loc[station]['latitude'], \n",
    "                transform = cartopy.crs.Geodetic(), \n",
    "                s = 5, \n",
    "                c = 'b',\n",
    "               zorder = 1)"
   ]
  },
  {
   "cell_type": "code",
   "execution_count": 53,
   "metadata": {
    "collapsed": true
   },
   "outputs": [],
   "source": [
    "states = cartopy.io.shapereader.natural_earth(resolution='110m',\n",
    "                                          category='cultural',\n",
    "                                          name='admin_1_states_provinces_lakes_shp')\n",
    "reader = cartopy.io.shapereader.Reader(states)\n",
    "all_states = list(reader.records())\n",
    "all_states[0]\n",
    "geometries = [state.geometry for state in all_states]"
   ]
  },
  {
   "cell_type": "markdown",
   "metadata": {},
   "source": [
    "## Component 1 Plots\n",
    "\n",
    "1. United States map showing the location of selected station\n",
    "2. Line plot visualizing the seismographic readings\n",
    "3. Spectrogram visualizing the intensity of the seismographic readings"
   ]
  },
  {
   "cell_type": "code",
   "execution_count": 67,
   "metadata": {},
   "outputs": [
    {
     "data": {
      "application/vnd.jupyter.widget-view+json": {
       "model_id": "a0481284d11542b48f60a0215d68625d",
       "version_major": 2,
       "version_minor": 0
      },
      "text/html": [
       "<p>Failed to display Jupyter Widget of type <code>interactive</code>.</p>\n",
       "<p>\n",
       "  If you're reading this message in the Jupyter Notebook or JupyterLab Notebook, it may mean\n",
       "  that the widgets JavaScript is still loading. If this message persists, it\n",
       "  likely means that the widgets JavaScript library is either not installed or\n",
       "  not enabled. See the <a href=\"https://ipywidgets.readthedocs.io/en/stable/user_install.html\">Jupyter\n",
       "  Widgets Documentation</a> for setup instructions.\n",
       "</p>\n",
       "<p>\n",
       "  If you're reading this message in another frontend (for example, a static\n",
       "  rendering on GitHub or <a href=\"https://nbviewer.jupyter.org/\">NBViewer</a>),\n",
       "  it may mean that your frontend doesn't currently support widgets.\n",
       "</p>\n"
      ],
      "text/plain": [
       "interactive(children=(IntSlider(value=0, description='time', max=14400), IntSlider(value=0, description='station', max=437), Output()), _dom_classes=('widget-interact',))"
      ]
     },
     "metadata": {},
     "output_type": "display_data"
    }
   ],
   "source": [
    "@ipywidgets.interact(station = (0, 437, 1), time = (0, 14400, 1))\n",
    "def make_plot(time = 0, station = 0):\n",
    "    \n",
    "    # Gridspec to arrange the plots\n",
    "    # 25 x 10 size\n",
    "    # gs[row, col]\n",
    "    gs = gridspec.GridSpec(25, 10)\n",
    "    fig = plt.gcf()\n",
    "    fig = plt.figure(figsize=(25, 10))\n",
    "    \n",
    "    # Set up three subplots\n",
    "    ax1 = fig.add_subplot(gs[:, :5], projection = cartopy.crs.LambertConformal())\n",
    "    ax2 = fig.add_subplot(gs[4:12, 6:])\n",
    "    ax3 = fig.add_subplot(gs[13:21, 6:])\n",
    "\n",
    "    # Scatter plot showing the station's location\n",
    "    ax1.set_extent([-125, -66.5, 20, 50], cartopy.crs.Geodetic())\n",
    "    ax1.add_geometries(geometries, crs = cartopy.crs.PlateCarree(), facecolors = 'lightblue', edgecolors = 'blue', zorder = 0)\n",
    "\n",
    "    ax1.scatter(new_df.loc[station]['longitude'], \n",
    "            new_df.loc[station]['latitude'], \n",
    "            transform = cartopy.crs.Geodetic(), \n",
    "            s = 35, \n",
    "            c = 'k',\n",
    "            zorder = 1)\n",
    "    \n",
    "    # Line plot for seismographic readings\n",
    "    i = 5\n",
    "    ax2.plot(new_df.loc[station][4:i+time].values)\n",
    "    ax2.set_xlim(0, 14000)\n",
    "    ax2.set_ylim(-1.0, 1.0)\n",
    "\n",
    "    # Spectrogram plot\n",
    "    spec = ax3.hexbin(np.arange(14401), np.abs(new_df.loc[station][4:].values), bins = 'log')\n",
    "    plt.colorbar(spec, ax=ax3)\n",
    "        \n",
    "    # Audio\n",
    "    normed = (array_vals[station] - array_vals[station].min())/(array_vals[station].max() - array_vals[station].min()) * 2 - 1\n",
    "    a = Audio(normed, rate=44100/8) # still trying to figure out how to add this "
   ]
  },
  {
   "cell_type": "markdown",
   "metadata": {},
   "source": [
    "## Audio Component"
   ]
  },
  {
   "cell_type": "code",
   "execution_count": 68,
   "metadata": {},
   "outputs": [
    {
     "data": {
      "text/html": [
       "\n",
       "                <audio controls=\"controls\" >\n",
       "                    <source src=\"data:audio/wav;base64,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\" type=\"audio/wav\" />\n",
       "                    Your browser does not support the audio element.\n",
       "                </audio>\n",
       "              "
      ],
      "text/plain": [
       "<IPython.lib.display.Audio object>"
      ]
     },
     "execution_count": 68,
     "metadata": {},
     "output_type": "execute_result"
    }
   ],
   "source": [
    "normed = (array_vals[0] - array_vals[0].min())/(array_vals[0].max() - array_vals[0].min()) * 2 - 1\n",
    "Audio(normed, rate=44100/8)"
   ]
  },
  {
   "cell_type": "code",
   "execution_count": null,
   "metadata": {
    "collapsed": true
   },
   "outputs": [],
   "source": []
  }
 ],
 "metadata": {
  "kernelspec": {
   "display_name": "Python 3",
   "language": "python",
   "name": "python3"
  },
  "language_info": {
   "codemirror_mode": {
    "name": "ipython",
    "version": 3
   },
   "file_extension": ".py",
   "mimetype": "text/x-python",
   "name": "python",
   "nbconvert_exporter": "python",
   "pygments_lexer": "ipython3",
   "version": "3.6.3"
  }
 },
 "nbformat": 4,
 "nbformat_minor": 2
}
